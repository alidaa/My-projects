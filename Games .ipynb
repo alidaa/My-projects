{
 "cells": [
  {
   "cell_type": "markdown",
   "metadata": {},
   "source": [
    "# Assignments for the 'Introduction to Python' by Stanford University"
   ]
  },
  {
   "cell_type": "markdown",
   "metadata": {},
   "source": [
    "Code in Place, offered online by Stanford University April-May 2020\n",
    "\n",
    "A 5-week introductory online Python programming course based on material from the first half of Stanford’s introductory programming course, CS106A.\n",
    "\n",
    "Offered by Stanford during COVID-19 pandemic, with 10,000 global students and 900 volunteer teachers participating from around the world. \n",
    "\n"
   ]
  },
  {
   "cell_type": "markdown",
   "metadata": {},
   "source": [
    "***Below you can see my code for the assignments that I found the most ineteresting.***"
   ]
  },
  {
   "cell_type": "markdown",
   "metadata": {},
   "source": [
    "1) **Khan-Sole Academy**<br/> Khan-sole Academy—a program that helps other people learn. In this problem, you’ll write a program in the file khansole_academy.py that randomly generates simple addition problems for the user, reads in the answer from the user, and then checks to see if they got it right or wrong, until the user appears to have mastered the material.\n",
    " \n",
    "More specifically, your program should be able to generate simple addition problems that involve adding two 2-digit integers (i.e., the numbers 10 through 99).  The user should be asked for an answer to each problem.  Your program should determine if the answer was correct or not, and give the user an appropriate message to let them know.  Your program should keep giving the user problems until the user has gotten 3 problems correct in a row.  (Note: the number of problems the user needs to get correctly in a row to complete the program is just one example of a good place to specify a constant in your program).<br/> A sample run of the program is shown below (user input is in italics). "
   ]
  },
  {
   "cell_type": "markdown",
   "metadata": {},
   "source": [
    "<img src='khansole academy.jpg'/>"
   ]
  },
  {
   "cell_type": "code",
   "execution_count": null,
   "metadata": {},
   "outputs": [],
   "source": [
    "import random\n",
    "\n",
    "def main():\n",
    "    corr = 0\n",
    "    while corr < 3:\n",
    "        one = random.randint(10,99)\n",
    "        two = random.randint(10,99)\n",
    "        correct = one + two\n",
    "        correct_str = str(correct)\n",
    "        one_str = str(one)\n",
    "        two_str = str(two)\n",
    "        print('What is ' + one_str + ' + ' + two_str + '?')\n",
    "        input_str = input('Your answer:')\n",
    "        input_int = int(input_str)\n",
    "\n",
    "        if input_int != one + two:\n",
    "            print('Incorrect. The expected answer is ' + correct_str)\n",
    "        else:\n",
    "            corr = corr + 1\n",
    "            corr_str = str(corr)\n",
    "            print(\"Correct! You've gotten \" + corr_str + \" correct in a row.\")\n",
    "    print('Congratulations! You mastered addition.')"
   ]
  },
  {
   "cell_type": "markdown",
   "metadata": {},
   "source": [
    "2) **Nimm** <br/>Nimm is an ancient game of strategy that is named after the old German word for \"take.\" It is also called Tiouk Tiouk in West Africa and Tsynshidzi in China. Players alternate taking stones until there are zero left. The game of Nimm goes as follows: \n",
    " 1. The game starts with a pile of 20 stones between the players 2. The two players alternate turns 3. On a given turn, a player may take either 1 or 2 stone from the center pile 4. The two players continue until the center pile has run out of stones. \n",
    " The last player to take a stone loses.<br/> Here is a screenshot from an example execution: "
   ]
  },
  {
   "cell_type": "markdown",
   "metadata": {},
   "source": [
    "<img src='nimm.jpg'/>"
   ]
  },
  {
   "cell_type": "code",
   "execution_count": null,
   "metadata": {},
   "outputs": [],
   "source": [
    "def main():\n",
    "    stones=20\n",
    "    player= 1\n",
    "    while stones > 0:\n",
    "       stones_str = str(stones)\n",
    "       print(\"There are \" + stones_str + \" stones left\")\n",
    "       if player == 1:\n",
    "           input_int = int(input(\"Player 1 would you like to remove 1 or 2 stones? \"))\n",
    "           while input_int > 2:\n",
    "            input_int = int(input(\"Please enter 1 or 2: \"))\n",
    "           stones = stones - input_int\n",
    "           player = player + 1\n",
    "           player = player + 1\n",
    "       else:\n",
    "           input_int = int(input(\"Player 2 would you like to remove 1 or 2 stones? \"))\n",
    "           while input_int > 2:\n",
    "               input_int = int(input(\"Please enter 1 or 2: \"))\n",
    "           stones = stones - input_int\n",
    "           player = player - 1\n",
    "    if player == 2:\n",
    "        print(\"Player 2 wins!\")\n",
    "    else:\n",
    "        print(\"Player 1 wins!\")"
   ]
  },
  {
   "cell_type": "markdown",
   "metadata": {},
   "source": [
    "3) **Guess the number**<br/>\n",
    "This is a game where a player is given 5 tries to guess a random number between 0 and 50."
   ]
  },
  {
   "cell_type": "code",
   "execution_count": null,
   "metadata": {},
   "outputs": [],
   "source": [
    "import random\n",
    "random_num = random.randint(0,50)\n",
    "#print(random_num)\n",
    "def main():\n",
    "    tries = 5\n",
    "    print(\"You need to guess the number from 0 to 50. You've got 5 tries. Good luck!\")\n",
    "\n",
    "   \n",
    "    while tries > 0:\n",
    "        inp_num = int(input('Your guess: '))\n",
    "        if inp_num < random_num:\n",
    "            tries = tries - 1\n",
    "            print('Wrong answer. The number is greater than ' + str(inp_num) + \". You've got \"+ str(tries) + ' guesses left.')\n",
    "        elif inp_num > random_num:\n",
    "            while inp_num > 50:\n",
    "                inp_num = int(input(\"Please enter a number between 0 and 50: \"))\n",
    "            tries = tries - 1\n",
    "            print('Wrong answer. The number is smaller than ' + str(inp_num) + \". You've got \"+ str(tries) + ' guesses left. ')\n",
    "        else:\n",
    "            print('Spot on!')\n",
    "            exit(0)\n",
    "    print(\"Sorry, you lost\")\n"
   ]
  },
  {
   "cell_type": "markdown",
   "metadata": {},
   "source": [
    "<img src='feedback.jpg'/>"
   ]
  }
 ],
 "metadata": {
  "kernelspec": {
   "display_name": "Python 3",
   "language": "python",
   "name": "python3"
  },
  "language_info": {
   "codemirror_mode": {
    "name": "ipython",
    "version": 3
   },
   "file_extension": ".py",
   "mimetype": "text/x-python",
   "name": "python",
   "nbconvert_exporter": "python",
   "pygments_lexer": "ipython3",
   "version": "3.7.1"
  }
 },
 "nbformat": 4,
 "nbformat_minor": 2
}
